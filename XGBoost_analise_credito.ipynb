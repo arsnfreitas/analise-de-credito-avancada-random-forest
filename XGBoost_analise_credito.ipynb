{
 "cells": [
  {
   "cell_type": "markdown",
   "metadata": {},
   "source": [
    "# Gradient Boosting Machine"
   ]
  },
  {
   "cell_type": "code",
   "execution_count": 67,
   "metadata": {},
   "outputs": [],
   "source": [
    "import patsy\n",
    "import pandas as pd\n",
    "import seaborn as sns\n",
    "import matplotlib.pyplot as plt\n",
    "\n",
    "from datetime import datetime\n",
    "\n",
    "from scipy.stats import ks_2samp\n",
    "from sklearn.metrics import accuracy_score, roc_auc_score\n",
    "from sklearn.model_selection import train_test_split\n",
    "\n",
    "from sklearn.ensemble import GradientBoostingClassifier"
   ]
  },
  {
   "cell_type": "code",
   "execution_count": 68,
   "metadata": {},
   "outputs": [
    {
     "data": {
      "text/html": [
       "<div>\n",
       "<style scoped>\n",
       "    .dataframe tbody tr th:only-of-type {\n",
       "        vertical-align: middle;\n",
       "    }\n",
       "\n",
       "    .dataframe tbody tr th {\n",
       "        vertical-align: top;\n",
       "    }\n",
       "\n",
       "    .dataframe thead th {\n",
       "        text-align: right;\n",
       "    }\n",
       "</style>\n",
       "<table border=\"1\" class=\"dataframe\">\n",
       "  <thead>\n",
       "    <tr style=\"text-align: right;\">\n",
       "      <th></th>\n",
       "      <th>data_ref</th>\n",
       "      <th>id_cliente</th>\n",
       "      <th>sexo</th>\n",
       "      <th>posse_de_veiculo</th>\n",
       "      <th>posse_de_imovel</th>\n",
       "      <th>qtd_filhos</th>\n",
       "      <th>tipo_renda</th>\n",
       "      <th>educacao</th>\n",
       "      <th>estado_civil</th>\n",
       "      <th>tipo_residencia</th>\n",
       "      <th>idade</th>\n",
       "      <th>tempo_emprego</th>\n",
       "      <th>qt_pessoas_residencia</th>\n",
       "      <th>renda</th>\n",
       "      <th>mau</th>\n",
       "    </tr>\n",
       "  </thead>\n",
       "  <tbody>\n",
       "    <tr>\n",
       "      <th>0</th>\n",
       "      <td>2015-01-01</td>\n",
       "      <td>1</td>\n",
       "      <td>F</td>\n",
       "      <td>True</td>\n",
       "      <td>True</td>\n",
       "      <td>0</td>\n",
       "      <td>Assalariado</td>\n",
       "      <td>Secundário</td>\n",
       "      <td>Casado</td>\n",
       "      <td>Casa</td>\n",
       "      <td>49</td>\n",
       "      <td>8.605479</td>\n",
       "      <td>2.0</td>\n",
       "      <td>1916.54</td>\n",
       "      <td>0</td>\n",
       "    </tr>\n",
       "    <tr>\n",
       "      <th>1</th>\n",
       "      <td>2015-01-01</td>\n",
       "      <td>2</td>\n",
       "      <td>M</td>\n",
       "      <td>True</td>\n",
       "      <td>False</td>\n",
       "      <td>0</td>\n",
       "      <td>Empresário</td>\n",
       "      <td>Secundário</td>\n",
       "      <td>União</td>\n",
       "      <td>Casa</td>\n",
       "      <td>60</td>\n",
       "      <td>6.953425</td>\n",
       "      <td>2.0</td>\n",
       "      <td>2967.25</td>\n",
       "      <td>0</td>\n",
       "    </tr>\n",
       "    <tr>\n",
       "      <th>2</th>\n",
       "      <td>2015-01-01</td>\n",
       "      <td>3</td>\n",
       "      <td>F</td>\n",
       "      <td>True</td>\n",
       "      <td>False</td>\n",
       "      <td>0</td>\n",
       "      <td>Empresário</td>\n",
       "      <td>Secundário</td>\n",
       "      <td>Casado</td>\n",
       "      <td>Casa</td>\n",
       "      <td>28</td>\n",
       "      <td>0.682192</td>\n",
       "      <td>2.0</td>\n",
       "      <td>340.96</td>\n",
       "      <td>0</td>\n",
       "    </tr>\n",
       "    <tr>\n",
       "      <th>3</th>\n",
       "      <td>2015-01-01</td>\n",
       "      <td>4</td>\n",
       "      <td>F</td>\n",
       "      <td>False</td>\n",
       "      <td>True</td>\n",
       "      <td>0</td>\n",
       "      <td>Assalariado</td>\n",
       "      <td>Superior completo</td>\n",
       "      <td>Casado</td>\n",
       "      <td>Casa</td>\n",
       "      <td>60</td>\n",
       "      <td>1.879452</td>\n",
       "      <td>2.0</td>\n",
       "      <td>4903.16</td>\n",
       "      <td>0</td>\n",
       "    </tr>\n",
       "    <tr>\n",
       "      <th>4</th>\n",
       "      <td>2015-01-01</td>\n",
       "      <td>5</td>\n",
       "      <td>F</td>\n",
       "      <td>False</td>\n",
       "      <td>False</td>\n",
       "      <td>0</td>\n",
       "      <td>Empresário</td>\n",
       "      <td>Secundário</td>\n",
       "      <td>Casado</td>\n",
       "      <td>Casa</td>\n",
       "      <td>47</td>\n",
       "      <td>8.438356</td>\n",
       "      <td>2.0</td>\n",
       "      <td>3012.60</td>\n",
       "      <td>0</td>\n",
       "    </tr>\n",
       "  </tbody>\n",
       "</table>\n",
       "</div>"
      ],
      "text/plain": [
       "    data_ref  id_cliente sexo  posse_de_veiculo  posse_de_imovel  qtd_filhos  \\\n",
       "0 2015-01-01           1    F              True             True           0   \n",
       "1 2015-01-01           2    M              True            False           0   \n",
       "2 2015-01-01           3    F              True            False           0   \n",
       "3 2015-01-01           4    F             False             True           0   \n",
       "4 2015-01-01           5    F             False            False           0   \n",
       "\n",
       "    tipo_renda           educacao estado_civil tipo_residencia  idade  \\\n",
       "0  Assalariado         Secundário       Casado            Casa     49   \n",
       "1   Empresário         Secundário        União            Casa     60   \n",
       "2   Empresário         Secundário       Casado            Casa     28   \n",
       "3  Assalariado  Superior completo       Casado            Casa     60   \n",
       "4   Empresário         Secundário       Casado            Casa     47   \n",
       "\n",
       "   tempo_emprego  qt_pessoas_residencia    renda  mau  \n",
       "0       8.605479                    2.0  1916.54    0  \n",
       "1       6.953425                    2.0  2967.25    0  \n",
       "2       0.682192                    2.0   340.96    0  \n",
       "3       1.879452                    2.0  4903.16    0  \n",
       "4       8.438356                    2.0  3012.60    0  "
      ]
     },
     "execution_count": 68,
     "metadata": {},
     "output_type": "execute_result"
    }
   ],
   "source": [
    "df = pd.read_csv('credit_scoring.csv', parse_dates=['data_ref'])\n",
    "\n",
    "df['tempo_emprego'].fillna(-1, inplace=True)\n",
    "df.head()"
   ]
  },
  {
   "cell_type": "markdown",
   "metadata": {},
   "source": [
    "#### Bases de desenvolvimento, validação e *out-of-time*\n",
    "\n",
    "Vamos separar as bases que utilizaremos para desenvolver o modelo (train), *tunar* o modelo (test) e avaliar a performance (val)."
   ]
  },
  {
   "cell_type": "code",
   "execution_count": 48,
   "metadata": {},
   "outputs": [
    {
     "name": "stdout",
     "output_type": "stream",
     "text": [
      "Quantidade de linhas no treino:     42000\n",
      "Quantidade de linhas no teste:      18000\n",
      "Quantidade de linhas na validação:  15000\n"
     ]
    }
   ],
   "source": [
    "# Selecionar meses de 2016 para validação\n",
    "df_val = df[df['data_ref'] >= datetime(2016, 1, 1)].copy()\n",
    "\n",
    "# Selecionar meses de 2015 para treinamento e teste\n",
    "df = df[df['data_ref'] < datetime(2016, 1, 1)]\n",
    "\n",
    "df_train, df_test = train_test_split(df, test_size=0.3, random_state=12)\n",
    "\n",
    "df_train = df_train.reset_index(drop=True)\n",
    "df_test = df_test.reset_index(drop=True)\n",
    "df_val = df_val.reset_index(drop=True)\n",
    "\n",
    "print('Quantidade de linhas no treino:    ', df_train.shape[0])\n",
    "print('Quantidade de linhas no teste:     ', df_test.shape[0])\n",
    "print('Quantidade de linhas na validação: ', df_val.shape[0])"
   ]
  },
  {
   "cell_type": "code",
   "execution_count": 69,
   "metadata": {},
   "outputs": [],
   "source": [
    "equacao = '''mau ~ sexo + posse_de_veiculo + posse_de_imovel + qtd_filhos + tipo_renda + educacao \n",
    "            + estado_civil + tipo_residencia + idade + qt_pessoas_residencia + renda'''\n",
    "\n",
    "y_train, X_train = patsy.dmatrices(equacao, data=df_train)\n",
    "y_test, X_test = patsy.dmatrices(equacao, data=df_test)\n",
    "y_val, X_val = patsy.dmatrices(equacao, data=df_val)"
   ]
  },
  {
   "cell_type": "markdown",
   "metadata": {},
   "source": [
    "## Métricas para problemas de classificação\n",
    "\n",
    "Vamos avaliar o desempenho do random forest nas base de treinamento, teste e validação. Vamos avaliar a partir das seguintes métricas KS, Gini, AUC e Acurácia."
   ]
  },
  {
   "cell_type": "markdown",
   "metadata": {},
   "source": [
    "#### Função para calcular o desempenho\n",
    "\n",
    "Para facilitar essas comparações, vamos construir uma função para calcular todos esses indicadores. É interessante colocar valores padrão para os parâmetros da função, assim, vamos poder indicar somente a base de dados para rodar a função com os valores padrão dela."
   ]
  },
  {
   "cell_type": "code",
   "execution_count": 50,
   "metadata": {},
   "outputs": [],
   "source": [
    "# Calcular o Gini\n",
    "def calcula_gini(RESP, PD):\n",
    "    #AUC\n",
    "    auc = roc_auc_score(RESP, PD)\n",
    "\n",
    "    #Gini\n",
    "    gini = 2 * auc - 1\n",
    "    return gini\n",
    "\n",
    "\n",
    "def print_metricas(dados, PD='PD', CLASSE_PRED='classe_predita', RESP='mau'):\n",
    "\n",
    "    #Acuracia\n",
    "    acc = accuracy_score(dados[RESP], dados[CLASSE_PRED])\n",
    "\n",
    "    #AUC\n",
    "    auc = roc_auc_score(dados[RESP], dados[PD])\n",
    "\n",
    "    #Gini\n",
    "    gini = 2 * auc - 1\n",
    "\n",
    "    #KS\n",
    "    ks = ks_2samp(dados.loc[dados[RESP] == 1, PD], dados.loc[dados[RESP] != 1,\n",
    "                                                             PD]).statistic\n",
    "\n",
    "    print('KS:       {0:.2f}%'.format(ks * 100))\n",
    "    print('AUC:      {0:.2f}%'.format(auc * 100))\n",
    "    print('GINI:     {0:.2f}%'.format(gini * 100))\n",
    "    print('Acurácia: {0:.2f}%\\n'.format(acc * 100))\n",
    "\n",
    "    return None"
   ]
  },
  {
   "cell_type": "markdown",
   "metadata": {},
   "source": [
    "# *Gradient Boosting*\n",
    "\n",
    "***Boosting:*** é um método de *ensemble* (mistura de modelos) que tem a finalidade de combinar modelos *fracos* de modo a resultar em um *forte*. A forma mais popular do *boosting* hoje consiste em uma construção sequencial de modelos, cada um tentando reduzir o erro do anterior.\n",
    "\n",
    "***Gradient Boosting Machine:*** É o algoritmo de *boosting* mais popular. Consiste em construir árvores sequencialmente, em que uma árvore tenta *melhorar* a previsão sobre o erro da anterior. A lógica do algoritmo é a seguinte:\n",
    "\n",
    "1. Partir da média do target\n",
    "1. Calcular o resíduo entre a média e o valor do target de cada linha\n",
    "1. Ajustar uma árvore de decisão na base de desenvolvimento usando o resíduo como target\n",
    "2. Gravar os *desvios* de previsão em cada observação (resíduos)\n",
    "3. Ajustar uma nova árvore para explicar os resíduos obtidos em 2\n",
    "4. Repetir 2, 3, 4 e 5 até atingir um critério de parada\n",
    "\n",
    "***XGBoosting\\:*** (de *extreme gradient boosting*) é uma implementação do *gradient boosting* bastante eficiente e de código aberto, que ficou bastante popular por ser utilizada em diversas implementações de soluções vencedoras em competições de ciência de dados pelo mundo todo. Esta implementação está disponível em Python pelo pacote [XGBoost](https://xgboost.readthedocs.io/en/latest/install.html#python), que não pertence ao scikitlearn (embora o uso seja muito semelhante) e requer instalação utilizando o pip."
   ]
  },
  {
   "cell_type": "markdown",
   "metadata": {},
   "source": [
    "## Rodando o *Gradient Boosting Machine*\n",
    "\n",
    "Vamos rodar abaixo o *Gradient Boosting Machine* pelo scikitlearn.\n",
    "\n",
    "Além dos parâmetros que já vimos, temos:\n",
    "\n",
    "***learning_rate (eta)***: este parâmetro tem o intuito de reduzir a contribuição de cada árvore (passo em direção ao target). Com contribuições menores e mais árvores, o algoritmo deve captar padrões mais sutis. Há um equilíbrio entre o ```learning_rate``` e o ```n_estimators```."
   ]
  },
  {
   "cell_type": "code",
   "execution_count": 54,
   "metadata": {},
   "outputs": [
    {
     "name": "stdout",
     "output_type": "stream",
     "text": [
      "Wall time: 5min 28s\n"
     ]
    }
   ],
   "source": [
    "%%time\n",
    "parametros = {\n",
    "    'n_estimators': 100,\n",
    "    'max_depth': None,\n",
    "    'min_samples_leaf': 5,\n",
    "    'learning_rate': .1,\n",
    "    'random_state': 22\n",
    "}\n",
    "\n",
    "clf = GradientBoostingClassifier(**parametros)\\\n",
    "        .fit(X_train, y_train.ravel())"
   ]
  },
  {
   "cell_type": "markdown",
   "metadata": {},
   "source": [
    "### Desempenho do GBM"
   ]
  },
  {
   "cell_type": "code",
   "execution_count": 55,
   "metadata": {},
   "outputs": [
    {
     "name": "stdout",
     "output_type": "stream",
     "text": [
      "Performance do GBM nos dados de treino\n",
      "KS:       97.51%\n",
      "AUC:      99.69%\n",
      "GINI:     99.39%\n",
      "Acurácia: 98.03%\n",
      "\n",
      "Performance do GBM nos dados de teste\n",
      "KS:       19.41%\n",
      "AUC:      62.30%\n",
      "GINI:     24.60%\n",
      "Acurácia: 91.03%\n",
      "\n",
      "Performance do GBM nos dados de validação\n",
      "KS:       20.10%\n",
      "AUC:      63.54%\n",
      "GINI:     27.09%\n",
      "Acurácia: 90.34%\n",
      "\n"
     ]
    }
   ],
   "source": [
    "df_train['classe_predita'] = clf.predict(X_train)\n",
    "df_train['PD'] = clf.predict_proba(X_train)[:, 1]\n",
    "\n",
    "df_test['classe_predita'] = clf.predict(X_test)\n",
    "df_test['PD'] = clf.predict_proba(X_test)[:, 1]\n",
    "\n",
    "df_val['classe_predita'] = clf.predict(X_val)\n",
    "df_val['PD'] = clf.predict_proba(X_val)[:, 1]\n",
    "\n",
    "print('Performance do GBM nos dados de treino')\n",
    "print_metricas(dados=df_train)\n",
    "print('Performance do GBM nos dados de teste')\n",
    "print_metricas(dados=df_test)\n",
    "print('Performance do GBM nos dados de validação')\n",
    "print_metricas(dados=df_val)"
   ]
  },
  {
   "cell_type": "markdown",
   "metadata": {},
   "source": [
    "## *GridSearchCV*"
   ]
  },
  {
   "cell_type": "markdown",
   "metadata": {},
   "source": [
    "### 1o tunning"
   ]
  },
  {
   "cell_type": "code",
   "execution_count": 58,
   "metadata": {},
   "outputs": [
    {
     "name": "stdout",
     "output_type": "stream",
     "text": [
      "Wall time: 10min 19s\n"
     ]
    },
    {
     "data": {
      "text/plain": [
       "GridSearchCV(cv=2, estimator=GradientBoostingClassifier(),\n",
       "             param_grid={'learning_rate': [0.04, 0.06, 0.1],\n",
       "                         'min_samples_leaf': [2, 10, 20],\n",
       "                         'n_estimators': [100, 300, 600]},\n",
       "             scoring='roc_auc', verbose=False)"
      ]
     },
     "execution_count": 58,
     "metadata": {},
     "output_type": "execute_result"
    }
   ],
   "source": [
    "%%time\n",
    "from sklearn.model_selection import GridSearchCV\n",
    "\n",
    "gb = GradientBoostingClassifier()\n",
    "\n",
    "parametros = {\n",
    "    'n_estimators': [100, 300, 600],\n",
    "    'min_samples_leaf': [2, 10, 20],\n",
    "    'learning_rate': [0.04, 0.06, .1]\n",
    "}\n",
    "\n",
    "grid = GridSearchCV(estimator=gb,\n",
    "                    param_grid=parametros,\n",
    "                    scoring='roc_auc',\n",
    "                    verbose=False,\n",
    "                    cv=2)\n",
    "\n",
    "grid.fit(X_train, y_train.ravel())"
   ]
  },
  {
   "cell_type": "code",
   "execution_count": 59,
   "metadata": {},
   "outputs": [
    {
     "data": {
      "text/plain": [
       "{'learning_rate': 0.04, 'min_samples_leaf': 10, 'n_estimators': 100}"
      ]
     },
     "execution_count": 59,
     "metadata": {},
     "output_type": "execute_result"
    }
   ],
   "source": [
    "grid.best_params_"
   ]
  },
  {
   "cell_type": "markdown",
   "metadata": {},
   "source": [
    "### 2o tunning"
   ]
  },
  {
   "cell_type": "code",
   "execution_count": 60,
   "metadata": {},
   "outputs": [
    {
     "name": "stdout",
     "output_type": "stream",
     "text": [
      "Wall time: 3min 10s\n"
     ]
    },
    {
     "data": {
      "text/plain": [
       "GridSearchCV(cv=2, estimator=GradientBoostingClassifier(),\n",
       "             param_grid={'learning_rate': [0.02, 0.03, 0.04],\n",
       "                         'min_samples_leaf': [8, 10, 12],\n",
       "                         'n_estimators': [90, 100, 110]},\n",
       "             scoring='roc_auc', verbose=False)"
      ]
     },
     "execution_count": 60,
     "metadata": {},
     "output_type": "execute_result"
    }
   ],
   "source": [
    "%%time\n",
    "gb = GradientBoostingClassifier()\n",
    "\n",
    "parametros = {\n",
    "    'learning_rate': [0.02, 0.03, 0.04],\n",
    "    'min_samples_leaf': [8, 10, 12],\n",
    "    'n_estimators': [90, 100, 110]\n",
    "}\n",
    "\n",
    "grid = GridSearchCV(estimator=gb,\n",
    "                    param_grid=parametros,\n",
    "                    scoring='roc_auc',\n",
    "                    verbose=False,\n",
    "                    cv=2)\n",
    "\n",
    "grid.fit(X_train, y_train.ravel())"
   ]
  },
  {
   "cell_type": "code",
   "execution_count": 61,
   "metadata": {
    "scrolled": true
   },
   "outputs": [
    {
     "data": {
      "text/plain": [
       "{'learning_rate': 0.02, 'min_samples_leaf': 10, 'n_estimators': 100}"
      ]
     },
     "execution_count": 61,
     "metadata": {},
     "output_type": "execute_result"
    }
   ],
   "source": [
    "grid.best_params_"
   ]
  },
  {
   "cell_type": "markdown",
   "metadata": {},
   "source": [
    "### 3o tunning"
   ]
  },
  {
   "cell_type": "code",
   "execution_count": 62,
   "metadata": {},
   "outputs": [
    {
     "name": "stdout",
     "output_type": "stream",
     "text": [
      "Wall time: 3min 11s\n"
     ]
    },
    {
     "data": {
      "text/plain": [
       "GridSearchCV(cv=2, estimator=GradientBoostingClassifier(),\n",
       "             param_grid={'learning_rate': [0.01, 0.015, 0.02],\n",
       "                         'min_samples_leaf': [6, 7, 8],\n",
       "                         'n_estimators': [50, 100, 200]},\n",
       "             scoring='roc_auc', verbose=False)"
      ]
     },
     "execution_count": 62,
     "metadata": {},
     "output_type": "execute_result"
    }
   ],
   "source": [
    "%%time\n",
    "gb = GradientBoostingClassifier()\n",
    "\n",
    "parametros = {\n",
    "    'learning_rate': [0.01, 0.015, 0.02],\n",
    "    'min_samples_leaf': [6, 7, 8],\n",
    "    'n_estimators': [50, 100, 200]\n",
    "}\n",
    "\n",
    "grid = GridSearchCV(estimator=gb,\n",
    "                    param_grid=parametros,\n",
    "                    scoring='roc_auc',\n",
    "                    verbose=False,\n",
    "                    cv=2)\n",
    "\n",
    "grid.fit(X_train, y_train.ravel())"
   ]
  },
  {
   "cell_type": "code",
   "execution_count": 63,
   "metadata": {
    "scrolled": true
   },
   "outputs": [
    {
     "data": {
      "text/plain": [
       "{'learning_rate': 0.01, 'min_samples_leaf': 8, 'n_estimators': 100}"
      ]
     },
     "execution_count": 63,
     "metadata": {},
     "output_type": "execute_result"
    }
   ],
   "source": [
    "grid.best_params_"
   ]
  },
  {
   "cell_type": "markdown",
   "metadata": {},
   "source": [
    "### 4o tunning"
   ]
  },
  {
   "cell_type": "code",
   "execution_count": 64,
   "metadata": {},
   "outputs": [
    {
     "name": "stdout",
     "output_type": "stream",
     "text": [
      "Wall time: 25.3 s\n"
     ]
    },
    {
     "data": {
      "text/plain": [
       "GridSearchCV(cv=2, estimator=GradientBoostingClassifier(),\n",
       "             param_grid={'learning_rate': [0.008, 0.009, 0.01],\n",
       "                         'min_samples_leaf': [8], 'n_estimators': [100]},\n",
       "             scoring='roc_auc', verbose=False)"
      ]
     },
     "execution_count": 64,
     "metadata": {},
     "output_type": "execute_result"
    }
   ],
   "source": [
    "%%time\n",
    "gb = GradientBoostingClassifier()\n",
    "\n",
    "parametros = {\n",
    "    'learning_rate': [0.008, 0.009, 0.01],\n",
    "    'min_samples_leaf': [8],\n",
    "    'n_estimators': [100]\n",
    "}\n",
    "\n",
    "grid = GridSearchCV(estimator=gb,\n",
    "                    param_grid=parametros,\n",
    "                    scoring='roc_auc',\n",
    "                    verbose=False,\n",
    "                    cv=2)\n",
    "\n",
    "grid.fit(X_train, y_train.ravel())"
   ]
  },
  {
   "cell_type": "code",
   "execution_count": 65,
   "metadata": {},
   "outputs": [
    {
     "data": {
      "text/plain": [
       "{'learning_rate': 0.009, 'min_samples_leaf': 8, 'n_estimators': 100}"
      ]
     },
     "execution_count": 65,
     "metadata": {},
     "output_type": "execute_result"
    }
   ],
   "source": [
    "grid.best_params_"
   ]
  },
  {
   "cell_type": "markdown",
   "metadata": {},
   "source": [
    "## Treinando e calculando a performance dos melhores Hyperparametros"
   ]
  },
  {
   "cell_type": "code",
   "execution_count": 70,
   "metadata": {},
   "outputs": [
    {
     "name": "stdout",
     "output_type": "stream",
     "text": [
      "Performance do GBM nos dados de treino\n",
      "KS:       26.67%\n",
      "AUC:      68.54%\n",
      "GINI:     37.09%\n",
      "Acurácia: 93.03%\n",
      "\n",
      "Performance do GBM nos dados de teste\n",
      "KS:       26.83%\n",
      "AUC:      68.58%\n",
      "GINI:     37.15%\n",
      "Acurácia: 93.16%\n",
      "\n",
      "Performance do GBM nos dados de validação\n",
      "KS:       33.26%\n",
      "AUC:      72.71%\n",
      "GINI:     45.43%\n",
      "Acurácia: 92.88%\n",
      "\n",
      "Wall time: 9.67 s\n"
     ]
    }
   ],
   "source": [
    "%%time\n",
    "parametros = {\n",
    "    'learning_rate': 0.009,\n",
    "    'min_samples_leaf': 8,\n",
    "    'n_estimators': 100\n",
    "}\n",
    "\n",
    "clf = GradientBoostingClassifier(**parametros)\\\n",
    "        .fit(X_train, y_train.ravel())\n",
    "\n",
    "df_train['classe_predita'] = clf.predict(X_train)\n",
    "df_train['PD'] = clf.predict_proba(X_train)[:, 1]\n",
    "\n",
    "df_test['classe_predita'] = clf.predict(X_test)\n",
    "df_test['PD'] = clf.predict_proba(X_test)[:, 1]\n",
    "\n",
    "df_val['classe_predita'] = clf.predict(X_val)\n",
    "df_val['PD'] = clf.predict_proba(X_val)[:, 1]\n",
    "\n",
    "print('Performance do GBM nos dados de treino')\n",
    "print_metricas(dados=df_train)\n",
    "print('Performance do GBM nos dados de teste')\n",
    "print_metricas(dados=df_test)\n",
    "print('Performance do GBM nos dados de validação')\n",
    "print_metricas(dados=df_val)"
   ]
  },
  {
   "cell_type": "markdown",
   "metadata": {},
   "source": [
    "#### Conclusão\n",
    "\n",
    "O *gradient Boosting* é um algoritmo extremamente poderoso, mas bem mais pesado, delicado e com mais hiperparâmetros. A otimização desse algoritmo pode ser mais custosa, mas levar a melhores resultados."
   ]
  }
 ],
 "metadata": {
  "kernelspec": {
   "display_name": "Python 3 (ipykernel)",
   "language": "python",
   "name": "python3"
  },
  "language_info": {
   "codemirror_mode": {
    "name": "ipython",
    "version": 3
   },
   "file_extension": ".py",
   "mimetype": "text/x-python",
   "name": "python",
   "nbconvert_exporter": "python",
   "pygments_lexer": "ipython3",
   "version": "3.10.9"
  },
  "varInspector": {
   "cols": {
    "lenName": 16,
    "lenType": 16,
    "lenVar": 40
   },
   "kernels_config": {
    "python": {
     "delete_cmd_postfix": "",
     "delete_cmd_prefix": "del ",
     "library": "var_list.py",
     "varRefreshCmd": "print(var_dic_list())"
    },
    "r": {
     "delete_cmd_postfix": ") ",
     "delete_cmd_prefix": "rm(",
     "library": "var_list.r",
     "varRefreshCmd": "cat(var_dic_list()) "
    }
   },
   "types_to_exclude": [
    "module",
    "function",
    "builtin_function_or_method",
    "instance",
    "_Feature"
   ],
   "window_display": false
  }
 },
 "nbformat": 4,
 "nbformat_minor": 4
}
